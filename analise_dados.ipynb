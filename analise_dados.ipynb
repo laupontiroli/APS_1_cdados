{
 "cells": [
  {
   "cell_type": "code",
   "execution_count": 9,
   "metadata": {},
   "outputs": [
    {
     "data": {
      "text/plain": [
       "TP_PRESENCA_CN\n",
       "1    1849701\n",
       "Name: count, dtype: int64"
      ]
     },
     "execution_count": 9,
     "metadata": {},
     "output_type": "execute_result"
    }
   ],
   "source": [
    "import pandas as pd \n",
    "\n",
    "#microdados_enem_2022/DADOS/MICRODADOS_ENEM_2022.csv na minha asta \n",
    "microdados_enem=pd.read_csv('microdados_enem_2022/DADOS/MICRODADOS_ENEM_2022.csv', encoding=\"latin2\", sep=\";\")\n",
    "\n",
    "df_filtro_treineiro=microdados_enem['IN_TREINEIRO']==0\n",
    "df_filtro_presenca_cn =microdados_enem['TP_PRESENCA_CN']==1\n",
    "df_filtro_presenca_ch =microdados_enem[ 'TP_PRESENCA_CH']==1\n",
    "df_filtro_presenca_lc =microdados_enem[ 'TP_PRESENCA_LC']==1\n",
    "df_filtro_presenca_mt =microdados_enem[ 'TP_PRESENCA_MT' ]==1\n",
    "df_filtro_redacao=microdados_enem['TP_STATUS_REDACAO']==1\n",
    "\n",
    "mcdados_filtrado=microdados_enem[df_filtro_presenca_cn & df_filtro_presenca_ch & df_filtro_presenca_lc & df_filtro_presenca_mt  & df_filtro_treineiro & df_filtro_redacao]\n"
   ]
  }
 ],
 "metadata": {
  "kernelspec": {
   "display_name": ".venv",
   "language": "python",
   "name": "python3"
  },
  "language_info": {
   "codemirror_mode": {
    "name": "ipython",
    "version": 3
   },
   "file_extension": ".py",
   "mimetype": "text/x-python",
   "name": "python",
   "nbconvert_exporter": "python",
   "pygments_lexer": "ipython3",
   "version": "3.11.4"
  },
  "orig_nbformat": 4
 },
 "nbformat": 4,
 "nbformat_minor": 2
}
