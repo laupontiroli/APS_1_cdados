{
 "cells": [
  {
   "cell_type": "code",
   "execution_count": 16,
   "metadata": {},
   "outputs": [
    {
     "name": "stdout",
     "output_type": "stream",
     "text": [
      "IN_TREINEIRO\n",
      "0    2963373\n",
      "Name: count, dtype: int64\n"
     ]
    }
   ],
   "source": [
    "import pandas as pd \n",
    "\n",
    "#microdados_enem_2022/DADOS/MICRODADOS_ENEM_2022.csv na minha asta \n",
    "microdados_enem=pd.read_csv('microdados_enem_2022/DADOS/MICRODADOS_ENEM_2022.csv', encoding=\"latin2\", sep=\";\")\n",
    "\n",
    "df_filtro_treineiro=microdados_enem['IN_TREINEIRO']==0\n",
    "\n",
    "not_treineiros=[]\n",
    "for id,bool_trein in df_filtro_treineiro.items():\n",
    "    if bool_trein==True:\n",
    "        not_treineiros.append(id)\n",
    "\n",
    "\n",
    "mcdados_filtrado =microdados_enem.iloc[not_treineiros]\n",
    "\n",
    "\n",
    "df_filtro_presenca =microdados_enem[['TP_PRESENCA_CN', '' ] ]==0\n",
    "\n",
    "not_treineiros=[]\n",
    "for id,bool_trein in df_filtro_presenca.items():\n",
    "    if bool_trein==True:\n",
    "        not_treineiros.append(id)\n",
    "\n",
    "\n",
    "\n",
    "\n",
    "df_filtro_redacao=microdados_enem['TP_STATUS_REDACAO']==1\n",
    "\n",
    "red_valida=[]\n",
    "for id,bool_redacao in df_filtro_redacao.items():\n",
    "    if bool_redacao==True:\n",
    "        red_valida.append(id)\n",
    "\n",
    "\n",
    "mcdados_filtrado=microdados_enem.iloc[red_valida]\n",
    "\n"
   ]
  }
 ],
 "metadata": {
  "kernelspec": {
   "display_name": ".venv",
   "language": "python",
   "name": "python3"
  },
  "language_info": {
   "codemirror_mode": {
    "name": "ipython",
    "version": 3
   },
   "file_extension": ".py",
   "mimetype": "text/x-python",
   "name": "python",
   "nbconvert_exporter": "python",
   "pygments_lexer": "ipython3",
   "version": "3.11.4"
  },
  "orig_nbformat": 4
 },
 "nbformat": 4,
 "nbformat_minor": 2
}
